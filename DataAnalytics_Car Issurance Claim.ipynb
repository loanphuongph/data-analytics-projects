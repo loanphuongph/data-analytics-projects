{
  "nbformat": 4,
  "nbformat_minor": 0,
  "metadata": {
    "colab": {
      "provenance": [],
      "collapsed_sections": [
        "K-xRpmAUwJLU",
        "6yDd-g80wI2L",
        "4z1eJG0Hy1oz"
      ]
    },
    "kernelspec": {
      "name": "python3",
      "display_name": "Python 3"
    },
    "language_info": {
      "name": "python"
    }
  },
  "cells": [
    {
      "cell_type": "markdown",
      "source": [
        "# 1. Problem description. What we want to achieve."
      ],
      "metadata": {
        "id": "K-xRpmAUwJLU"
      }
    },
    {
      "cell_type": "markdown",
      "source": [
        "This project understand and analyze customer behavior using a given data set.\n",
        "\n",
        "First step, an overview of the data can show the company that if the data has good quality and enough to do Explorartory Data Analysis. The factors should be consider are:\n",
        "Missing Variables, The type of columns, The dependent and independent variable.\n",
        "\n",
        "Next, we will do the Exploratory Data Analysis to understand more about the connection between dependent and independent.\n",
        "\n",
        "Additionally, plot charts to show insights for the company, eventually it can help company to have better look at the data to understand what going on in the past.\n"
      ],
      "metadata": {
        "id": "yOFCkyjx5MCk"
      }
    },
    {
      "cell_type": "markdown",
      "source": [
        "\n"
      ],
      "metadata": {
        "id": "kRV3NipZTvmv"
      }
    },
    {
      "cell_type": "markdown",
      "source": [
        "# 2. Import libraries"
      ],
      "metadata": {
        "id": "6yDd-g80wI2L"
      }
    },
    {
      "cell_type": "code",
      "source": [
        "# Import neccessary libraries\n",
        "import pandas as pd\n",
        "import matplotlib.pyplot as plt\n",
        "import seaborn as sns\n",
        "import numpy as np"
      ],
      "metadata": {
        "id": "G4F0Zm37wRK8"
      },
      "execution_count": null,
      "outputs": []
    },
    {
      "cell_type": "markdown",
      "source": [
        "# 3. Data Import\n"
      ],
      "metadata": {
        "id": "o6tgE512v3SJ"
      }
    },
    {
      "cell_type": "code",
      "execution_count": null,
      "metadata": {
        "colab": {
          "base_uri": "https://localhost:8080/",
          "height": 385
        },
        "id": "_g2AyiWfvVNS",
        "outputId": "38572bf3-ba9f-40de-fd9b-25bfaa6683dd"
      },
      "outputs": [
        {
          "output_type": "error",
          "ename": "FileNotFoundError",
          "evalue": "ignored",
          "traceback": [
            "\u001b[0;31m---------------------------------------------------------------------------\u001b[0m",
            "\u001b[0;31mFileNotFoundError\u001b[0m                         Traceback (most recent call last)",
            "\u001b[0;32m<ipython-input-4-41dbc383b670>\u001b[0m in \u001b[0;36m<cell line: 3>\u001b[0;34m()\u001b[0m\n\u001b[1;32m      1\u001b[0m \u001b[0;31m# Import the Customer Behavior Data\u001b[0m\u001b[0;34m\u001b[0m\u001b[0;34m\u001b[0m\u001b[0m\n\u001b[1;32m      2\u001b[0m \u001b[0;31m# Read csv file with seperator mark with ';'\u001b[0m\u001b[0;34m\u001b[0m\u001b[0;34m\u001b[0m\u001b[0m\n\u001b[0;32m----> 3\u001b[0;31m \u001b[0mcustomer_behavior_data\u001b[0m \u001b[0;34m=\u001b[0m \u001b[0mpd\u001b[0m\u001b[0;34m.\u001b[0m\u001b[0mread_csv\u001b[0m\u001b[0;34m(\u001b[0m\u001b[0;34m'Customer_Behavior_Data.csv'\u001b[0m\u001b[0;34m,\u001b[0m \u001b[0msep\u001b[0m\u001b[0;34m=\u001b[0m\u001b[0;34m';'\u001b[0m\u001b[0;34m)\u001b[0m\u001b[0;34m\u001b[0m\u001b[0;34m\u001b[0m\u001b[0m\n\u001b[0m",
            "\u001b[0;32m/usr/local/lib/python3.10/dist-packages/pandas/util/_decorators.py\u001b[0m in \u001b[0;36mwrapper\u001b[0;34m(*args, **kwargs)\u001b[0m\n\u001b[1;32m    209\u001b[0m                 \u001b[0;32melse\u001b[0m\u001b[0;34m:\u001b[0m\u001b[0;34m\u001b[0m\u001b[0;34m\u001b[0m\u001b[0m\n\u001b[1;32m    210\u001b[0m                     \u001b[0mkwargs\u001b[0m\u001b[0;34m[\u001b[0m\u001b[0mnew_arg_name\u001b[0m\u001b[0;34m]\u001b[0m \u001b[0;34m=\u001b[0m \u001b[0mnew_arg_value\u001b[0m\u001b[0;34m\u001b[0m\u001b[0;34m\u001b[0m\u001b[0m\n\u001b[0;32m--> 211\u001b[0;31m             \u001b[0;32mreturn\u001b[0m \u001b[0mfunc\u001b[0m\u001b[0;34m(\u001b[0m\u001b[0;34m*\u001b[0m\u001b[0margs\u001b[0m\u001b[0;34m,\u001b[0m \u001b[0;34m**\u001b[0m\u001b[0mkwargs\u001b[0m\u001b[0;34m)\u001b[0m\u001b[0;34m\u001b[0m\u001b[0;34m\u001b[0m\u001b[0m\n\u001b[0m\u001b[1;32m    212\u001b[0m \u001b[0;34m\u001b[0m\u001b[0m\n\u001b[1;32m    213\u001b[0m         \u001b[0;32mreturn\u001b[0m \u001b[0mcast\u001b[0m\u001b[0;34m(\u001b[0m\u001b[0mF\u001b[0m\u001b[0;34m,\u001b[0m \u001b[0mwrapper\u001b[0m\u001b[0;34m)\u001b[0m\u001b[0;34m\u001b[0m\u001b[0;34m\u001b[0m\u001b[0m\n",
            "\u001b[0;32m/usr/local/lib/python3.10/dist-packages/pandas/util/_decorators.py\u001b[0m in \u001b[0;36mwrapper\u001b[0;34m(*args, **kwargs)\u001b[0m\n\u001b[1;32m    329\u001b[0m                     \u001b[0mstacklevel\u001b[0m\u001b[0;34m=\u001b[0m\u001b[0mfind_stack_level\u001b[0m\u001b[0;34m(\u001b[0m\u001b[0;34m)\u001b[0m\u001b[0;34m,\u001b[0m\u001b[0;34m\u001b[0m\u001b[0;34m\u001b[0m\u001b[0m\n\u001b[1;32m    330\u001b[0m                 )\n\u001b[0;32m--> 331\u001b[0;31m             \u001b[0;32mreturn\u001b[0m \u001b[0mfunc\u001b[0m\u001b[0;34m(\u001b[0m\u001b[0;34m*\u001b[0m\u001b[0margs\u001b[0m\u001b[0;34m,\u001b[0m \u001b[0;34m**\u001b[0m\u001b[0mkwargs\u001b[0m\u001b[0;34m)\u001b[0m\u001b[0;34m\u001b[0m\u001b[0;34m\u001b[0m\u001b[0m\n\u001b[0m\u001b[1;32m    332\u001b[0m \u001b[0;34m\u001b[0m\u001b[0m\n\u001b[1;32m    333\u001b[0m         \u001b[0;31m# error: \"Callable[[VarArg(Any), KwArg(Any)], Any]\" has no\u001b[0m\u001b[0;34m\u001b[0m\u001b[0;34m\u001b[0m\u001b[0m\n",
            "\u001b[0;32m/usr/local/lib/python3.10/dist-packages/pandas/io/parsers/readers.py\u001b[0m in \u001b[0;36mread_csv\u001b[0;34m(filepath_or_buffer, sep, delimiter, header, names, index_col, usecols, squeeze, prefix, mangle_dupe_cols, dtype, engine, converters, true_values, false_values, skipinitialspace, skiprows, skipfooter, nrows, na_values, keep_default_na, na_filter, verbose, skip_blank_lines, parse_dates, infer_datetime_format, keep_date_col, date_parser, dayfirst, cache_dates, iterator, chunksize, compression, thousands, decimal, lineterminator, quotechar, quoting, doublequote, escapechar, comment, encoding, encoding_errors, dialect, error_bad_lines, warn_bad_lines, on_bad_lines, delim_whitespace, low_memory, memory_map, float_precision, storage_options)\u001b[0m\n\u001b[1;32m    948\u001b[0m     \u001b[0mkwds\u001b[0m\u001b[0;34m.\u001b[0m\u001b[0mupdate\u001b[0m\u001b[0;34m(\u001b[0m\u001b[0mkwds_defaults\u001b[0m\u001b[0;34m)\u001b[0m\u001b[0;34m\u001b[0m\u001b[0;34m\u001b[0m\u001b[0m\n\u001b[1;32m    949\u001b[0m \u001b[0;34m\u001b[0m\u001b[0m\n\u001b[0;32m--> 950\u001b[0;31m     \u001b[0;32mreturn\u001b[0m \u001b[0m_read\u001b[0m\u001b[0;34m(\u001b[0m\u001b[0mfilepath_or_buffer\u001b[0m\u001b[0;34m,\u001b[0m \u001b[0mkwds\u001b[0m\u001b[0;34m)\u001b[0m\u001b[0;34m\u001b[0m\u001b[0;34m\u001b[0m\u001b[0m\n\u001b[0m\u001b[1;32m    951\u001b[0m \u001b[0;34m\u001b[0m\u001b[0m\n\u001b[1;32m    952\u001b[0m \u001b[0;34m\u001b[0m\u001b[0m\n",
            "\u001b[0;32m/usr/local/lib/python3.10/dist-packages/pandas/io/parsers/readers.py\u001b[0m in \u001b[0;36m_read\u001b[0;34m(filepath_or_buffer, kwds)\u001b[0m\n\u001b[1;32m    603\u001b[0m \u001b[0;34m\u001b[0m\u001b[0m\n\u001b[1;32m    604\u001b[0m     \u001b[0;31m# Create the parser.\u001b[0m\u001b[0;34m\u001b[0m\u001b[0;34m\u001b[0m\u001b[0m\n\u001b[0;32m--> 605\u001b[0;31m     \u001b[0mparser\u001b[0m \u001b[0;34m=\u001b[0m \u001b[0mTextFileReader\u001b[0m\u001b[0;34m(\u001b[0m\u001b[0mfilepath_or_buffer\u001b[0m\u001b[0;34m,\u001b[0m \u001b[0;34m**\u001b[0m\u001b[0mkwds\u001b[0m\u001b[0;34m)\u001b[0m\u001b[0;34m\u001b[0m\u001b[0;34m\u001b[0m\u001b[0m\n\u001b[0m\u001b[1;32m    606\u001b[0m \u001b[0;34m\u001b[0m\u001b[0m\n\u001b[1;32m    607\u001b[0m     \u001b[0;32mif\u001b[0m \u001b[0mchunksize\u001b[0m \u001b[0;32mor\u001b[0m \u001b[0miterator\u001b[0m\u001b[0;34m:\u001b[0m\u001b[0;34m\u001b[0m\u001b[0;34m\u001b[0m\u001b[0m\n",
            "\u001b[0;32m/usr/local/lib/python3.10/dist-packages/pandas/io/parsers/readers.py\u001b[0m in \u001b[0;36m__init__\u001b[0;34m(self, f, engine, **kwds)\u001b[0m\n\u001b[1;32m   1440\u001b[0m \u001b[0;34m\u001b[0m\u001b[0m\n\u001b[1;32m   1441\u001b[0m         \u001b[0mself\u001b[0m\u001b[0;34m.\u001b[0m\u001b[0mhandles\u001b[0m\u001b[0;34m:\u001b[0m \u001b[0mIOHandles\u001b[0m \u001b[0;34m|\u001b[0m \u001b[0;32mNone\u001b[0m \u001b[0;34m=\u001b[0m \u001b[0;32mNone\u001b[0m\u001b[0;34m\u001b[0m\u001b[0;34m\u001b[0m\u001b[0m\n\u001b[0;32m-> 1442\u001b[0;31m         \u001b[0mself\u001b[0m\u001b[0;34m.\u001b[0m\u001b[0m_engine\u001b[0m \u001b[0;34m=\u001b[0m \u001b[0mself\u001b[0m\u001b[0;34m.\u001b[0m\u001b[0m_make_engine\u001b[0m\u001b[0;34m(\u001b[0m\u001b[0mf\u001b[0m\u001b[0;34m,\u001b[0m \u001b[0mself\u001b[0m\u001b[0;34m.\u001b[0m\u001b[0mengine\u001b[0m\u001b[0;34m)\u001b[0m\u001b[0;34m\u001b[0m\u001b[0;34m\u001b[0m\u001b[0m\n\u001b[0m\u001b[1;32m   1443\u001b[0m \u001b[0;34m\u001b[0m\u001b[0m\n\u001b[1;32m   1444\u001b[0m     \u001b[0;32mdef\u001b[0m \u001b[0mclose\u001b[0m\u001b[0;34m(\u001b[0m\u001b[0mself\u001b[0m\u001b[0;34m)\u001b[0m \u001b[0;34m->\u001b[0m \u001b[0;32mNone\u001b[0m\u001b[0;34m:\u001b[0m\u001b[0;34m\u001b[0m\u001b[0;34m\u001b[0m\u001b[0m\n",
            "\u001b[0;32m/usr/local/lib/python3.10/dist-packages/pandas/io/parsers/readers.py\u001b[0m in \u001b[0;36m_make_engine\u001b[0;34m(self, f, engine)\u001b[0m\n\u001b[1;32m   1733\u001b[0m                 \u001b[0;32mif\u001b[0m \u001b[0;34m\"b\"\u001b[0m \u001b[0;32mnot\u001b[0m \u001b[0;32min\u001b[0m \u001b[0mmode\u001b[0m\u001b[0;34m:\u001b[0m\u001b[0;34m\u001b[0m\u001b[0;34m\u001b[0m\u001b[0m\n\u001b[1;32m   1734\u001b[0m                     \u001b[0mmode\u001b[0m \u001b[0;34m+=\u001b[0m \u001b[0;34m\"b\"\u001b[0m\u001b[0;34m\u001b[0m\u001b[0;34m\u001b[0m\u001b[0m\n\u001b[0;32m-> 1735\u001b[0;31m             self.handles = get_handle(\n\u001b[0m\u001b[1;32m   1736\u001b[0m                 \u001b[0mf\u001b[0m\u001b[0;34m,\u001b[0m\u001b[0;34m\u001b[0m\u001b[0;34m\u001b[0m\u001b[0m\n\u001b[1;32m   1737\u001b[0m                 \u001b[0mmode\u001b[0m\u001b[0;34m,\u001b[0m\u001b[0;34m\u001b[0m\u001b[0;34m\u001b[0m\u001b[0m\n",
            "\u001b[0;32m/usr/local/lib/python3.10/dist-packages/pandas/io/common.py\u001b[0m in \u001b[0;36mget_handle\u001b[0;34m(path_or_buf, mode, encoding, compression, memory_map, is_text, errors, storage_options)\u001b[0m\n\u001b[1;32m    854\u001b[0m         \u001b[0;32mif\u001b[0m \u001b[0mioargs\u001b[0m\u001b[0;34m.\u001b[0m\u001b[0mencoding\u001b[0m \u001b[0;32mand\u001b[0m \u001b[0;34m\"b\"\u001b[0m \u001b[0;32mnot\u001b[0m \u001b[0;32min\u001b[0m \u001b[0mioargs\u001b[0m\u001b[0;34m.\u001b[0m\u001b[0mmode\u001b[0m\u001b[0;34m:\u001b[0m\u001b[0;34m\u001b[0m\u001b[0;34m\u001b[0m\u001b[0m\n\u001b[1;32m    855\u001b[0m             \u001b[0;31m# Encoding\u001b[0m\u001b[0;34m\u001b[0m\u001b[0;34m\u001b[0m\u001b[0m\n\u001b[0;32m--> 856\u001b[0;31m             handle = open(\n\u001b[0m\u001b[1;32m    857\u001b[0m                 \u001b[0mhandle\u001b[0m\u001b[0;34m,\u001b[0m\u001b[0;34m\u001b[0m\u001b[0;34m\u001b[0m\u001b[0m\n\u001b[1;32m    858\u001b[0m                 \u001b[0mioargs\u001b[0m\u001b[0;34m.\u001b[0m\u001b[0mmode\u001b[0m\u001b[0;34m,\u001b[0m\u001b[0;34m\u001b[0m\u001b[0;34m\u001b[0m\u001b[0m\n",
            "\u001b[0;31mFileNotFoundError\u001b[0m: [Errno 2] No such file or directory: 'Customer_Behavior_Data.csv'"
          ]
        }
      ],
      "source": [
        "# Import the Customer Behavior Data\n",
        "# Read csv file with seperator mark with ';'\n",
        "customer_behavior_data = pd.read_csv('Customer_Behavior_Data.csv', sep=';')"
      ]
    },
    {
      "cell_type": "markdown",
      "source": [
        "# 4. Data Overview - Basic Exploratory Analysis"
      ],
      "metadata": {
        "id": "2l41KBjRwaKk"
      }
    },
    {
      "cell_type": "markdown",
      "source": [
        "\n",
        "*   To have overview of the data (Check out the data)\n",
        "*   Looking for missing values, abnormalities\n",
        "*   Change the column names if needed\n",
        "*   Parse the data if needed\n",
        "\n",
        "\n",
        "\n"
      ],
      "metadata": {
        "id": "GmigHb1NyK_b"
      }
    },
    {
      "cell_type": "markdown",
      "source": [
        "### Load Data And Show basic information of the given data such as number of rows, columns, missing values and unique values"
      ],
      "metadata": {
        "id": "RP9lzxyMxpjM"
      }
    },
    {
      "cell_type": "code",
      "source": [
        "# Overview of data\n",
        "customer_behavior_data"
      ],
      "metadata": {
        "colab": {
          "base_uri": "https://localhost:8080/",
          "height": 513
        },
        "id": "u1RWZ6ztxkoq",
        "outputId": "83c4c7d4-3abf-44e7-83d8-b105dd2f8a65"
      },
      "execution_count": null,
      "outputs": [
        {
          "output_type": "execute_result",
          "data": {
            "text/plain": [
              "      account length  location code  user id credit card info save  \\\n",
              "0                128            415  3824657                    no   \n",
              "1                107            415  3717191                    no   \n",
              "2                137            415  3581921                    no   \n",
              "3                 84            408  3759999                   yes   \n",
              "4                 75            415  3306626                   yes   \n",
              "...              ...            ...      ...                   ...   \n",
              "3328             192            415  4144276                    no   \n",
              "3329              68            415  3703271                    no   \n",
              "3330              28            510  3288230                    no   \n",
              "3331             184            510  3646381                   yes   \n",
              "3332              74            415  4004344                    no   \n",
              "\n",
              "     push status  add to wishlist  desktop sessions  app sessions  \\\n",
              "0            yes               25               265            45   \n",
              "1            yes               26               162            27   \n",
              "2             no                0               243            41   \n",
              "3             no                0               299            51   \n",
              "4             no                0               167            28   \n",
              "...          ...              ...               ...           ...   \n",
              "3328         yes               36               156            27   \n",
              "3329          no                0               231            39   \n",
              "3330          no                0               181            31   \n",
              "3331          no                0               214            36   \n",
              "3332         yes               25               234            40   \n",
              "\n",
              "      desktop transactions  total product detail views  session duration  \\\n",
              "0                       17                         110               197   \n",
              "1                       17                         123               196   \n",
              "2                       10                         114               121   \n",
              "3                        5                          71                62   \n",
              "4                       13                         113               148   \n",
              "...                    ...                         ...               ...   \n",
              "3328                    18                          77               216   \n",
              "3329                    13                          57               153   \n",
              "3330                    25                         109               289   \n",
              "3331                    14                         105               160   \n",
              "3332                    23                         113               266   \n",
              "\n",
              "      promotion clicks avg order value  sale product views  \\\n",
              "0                   87           244,7                  91   \n",
              "1                  103           254,4                 103   \n",
              "2                  110           162,6                 104   \n",
              "3                   88           196,9                  89   \n",
              "4                  122           186,9                 121   \n",
              "...                ...             ...                 ...   \n",
              "3328               126           279,1                  83   \n",
              "3329                55           191,3                 123   \n",
              "3330                58           191,9                  91   \n",
              "3331                84           139,2                 137   \n",
              "3332                82           241,4                  77   \n",
              "\n",
              "     discount rate per visited products product detail view per app session  \\\n",
              "0                                 11,01                                  10   \n",
              "1                                 11,45                                13,7   \n",
              "2                                  7,32                                12,2   \n",
              "3                                  8,86                                 6,6   \n",
              "4                                  8,41                                10,1   \n",
              "...                                 ...                                 ...   \n",
              "3328                              12,56                                 9,9   \n",
              "3329                               8,61                                 9,6   \n",
              "3330                               8,64                                14,1   \n",
              "3331                               6,26                                   5   \n",
              "3332                              10,86                                13,7   \n",
              "\n",
              "      app transactions add to cart per session  customer service calls  churn  \n",
              "0                    3                     2,7                       1      0  \n",
              "1                    3                     3,7                       1      0  \n",
              "2                    5                    3,29                       0      0  \n",
              "3                    7                    1,78                       2      0  \n",
              "4                    3                    2,73                       3      0  \n",
              "...                ...                     ...                     ...    ...  \n",
              "3328                 6                    2,67                       2      0  \n",
              "3329                 4                    2,59                       3      0  \n",
              "3330                 6                    3,81                       2      0  \n",
              "3331                10                    1,35                       2      0  \n",
              "3332                 4                     3,7                       0      0  \n",
              "\n",
              "[3333 rows x 20 columns]"
            ],
            "text/html": [
              "\n",
              "  <div id=\"df-980435cc-f2c0-4190-ad63-e58a38eddd25\" class=\"colab-df-container\">\n",
              "    <div>\n",
              "<style scoped>\n",
              "    .dataframe tbody tr th:only-of-type {\n",
              "        vertical-align: middle;\n",
              "    }\n",
              "\n",
              "    .dataframe tbody tr th {\n",
              "        vertical-align: top;\n",
              "    }\n",
              "\n",
              "    .dataframe thead th {\n",
              "        text-align: right;\n",
              "    }\n",
              "</style>\n",
              "<table border=\"1\" class=\"dataframe\">\n",
              "  <thead>\n",
              "    <tr style=\"text-align: right;\">\n",
              "      <th></th>\n",
              "      <th>account length</th>\n",
              "      <th>location code</th>\n",
              "      <th>user id</th>\n",
              "      <th>credit card info save</th>\n",
              "      <th>push status</th>\n",
              "      <th>add to wishlist</th>\n",
              "      <th>desktop sessions</th>\n",
              "      <th>app sessions</th>\n",
              "      <th>desktop transactions</th>\n",
              "      <th>total product detail views</th>\n",
              "      <th>session duration</th>\n",
              "      <th>promotion clicks</th>\n",
              "      <th>avg order value</th>\n",
              "      <th>sale product views</th>\n",
              "      <th>discount rate per visited products</th>\n",
              "      <th>product detail view per app session</th>\n",
              "      <th>app transactions</th>\n",
              "      <th>add to cart per session</th>\n",
              "      <th>customer service calls</th>\n",
              "      <th>churn</th>\n",
              "    </tr>\n",
              "  </thead>\n",
              "  <tbody>\n",
              "    <tr>\n",
              "      <th>0</th>\n",
              "      <td>128</td>\n",
              "      <td>415</td>\n",
              "      <td>3824657</td>\n",
              "      <td>no</td>\n",
              "      <td>yes</td>\n",
              "      <td>25</td>\n",
              "      <td>265</td>\n",
              "      <td>45</td>\n",
              "      <td>17</td>\n",
              "      <td>110</td>\n",
              "      <td>197</td>\n",
              "      <td>87</td>\n",
              "      <td>244,7</td>\n",
              "      <td>91</td>\n",
              "      <td>11,01</td>\n",
              "      <td>10</td>\n",
              "      <td>3</td>\n",
              "      <td>2,7</td>\n",
              "      <td>1</td>\n",
              "      <td>0</td>\n",
              "    </tr>\n",
              "    <tr>\n",
              "      <th>1</th>\n",
              "      <td>107</td>\n",
              "      <td>415</td>\n",
              "      <td>3717191</td>\n",
              "      <td>no</td>\n",
              "      <td>yes</td>\n",
              "      <td>26</td>\n",
              "      <td>162</td>\n",
              "      <td>27</td>\n",
              "      <td>17</td>\n",
              "      <td>123</td>\n",
              "      <td>196</td>\n",
              "      <td>103</td>\n",
              "      <td>254,4</td>\n",
              "      <td>103</td>\n",
              "      <td>11,45</td>\n",
              "      <td>13,7</td>\n",
              "      <td>3</td>\n",
              "      <td>3,7</td>\n",
              "      <td>1</td>\n",
              "      <td>0</td>\n",
              "    </tr>\n",
              "    <tr>\n",
              "      <th>2</th>\n",
              "      <td>137</td>\n",
              "      <td>415</td>\n",
              "      <td>3581921</td>\n",
              "      <td>no</td>\n",
              "      <td>no</td>\n",
              "      <td>0</td>\n",
              "      <td>243</td>\n",
              "      <td>41</td>\n",
              "      <td>10</td>\n",
              "      <td>114</td>\n",
              "      <td>121</td>\n",
              "      <td>110</td>\n",
              "      <td>162,6</td>\n",
              "      <td>104</td>\n",
              "      <td>7,32</td>\n",
              "      <td>12,2</td>\n",
              "      <td>5</td>\n",
              "      <td>3,29</td>\n",
              "      <td>0</td>\n",
              "      <td>0</td>\n",
              "    </tr>\n",
              "    <tr>\n",
              "      <th>3</th>\n",
              "      <td>84</td>\n",
              "      <td>408</td>\n",
              "      <td>3759999</td>\n",
              "      <td>yes</td>\n",
              "      <td>no</td>\n",
              "      <td>0</td>\n",
              "      <td>299</td>\n",
              "      <td>51</td>\n",
              "      <td>5</td>\n",
              "      <td>71</td>\n",
              "      <td>62</td>\n",
              "      <td>88</td>\n",
              "      <td>196,9</td>\n",
              "      <td>89</td>\n",
              "      <td>8,86</td>\n",
              "      <td>6,6</td>\n",
              "      <td>7</td>\n",
              "      <td>1,78</td>\n",
              "      <td>2</td>\n",
              "      <td>0</td>\n",
              "    </tr>\n",
              "    <tr>\n",
              "      <th>4</th>\n",
              "      <td>75</td>\n",
              "      <td>415</td>\n",
              "      <td>3306626</td>\n",
              "      <td>yes</td>\n",
              "      <td>no</td>\n",
              "      <td>0</td>\n",
              "      <td>167</td>\n",
              "      <td>28</td>\n",
              "      <td>13</td>\n",
              "      <td>113</td>\n",
              "      <td>148</td>\n",
              "      <td>122</td>\n",
              "      <td>186,9</td>\n",
              "      <td>121</td>\n",
              "      <td>8,41</td>\n",
              "      <td>10,1</td>\n",
              "      <td>3</td>\n",
              "      <td>2,73</td>\n",
              "      <td>3</td>\n",
              "      <td>0</td>\n",
              "    </tr>\n",
              "    <tr>\n",
              "      <th>...</th>\n",
              "      <td>...</td>\n",
              "      <td>...</td>\n",
              "      <td>...</td>\n",
              "      <td>...</td>\n",
              "      <td>...</td>\n",
              "      <td>...</td>\n",
              "      <td>...</td>\n",
              "      <td>...</td>\n",
              "      <td>...</td>\n",
              "      <td>...</td>\n",
              "      <td>...</td>\n",
              "      <td>...</td>\n",
              "      <td>...</td>\n",
              "      <td>...</td>\n",
              "      <td>...</td>\n",
              "      <td>...</td>\n",
              "      <td>...</td>\n",
              "      <td>...</td>\n",
              "      <td>...</td>\n",
              "      <td>...</td>\n",
              "    </tr>\n",
              "    <tr>\n",
              "      <th>3328</th>\n",
              "      <td>192</td>\n",
              "      <td>415</td>\n",
              "      <td>4144276</td>\n",
              "      <td>no</td>\n",
              "      <td>yes</td>\n",
              "      <td>36</td>\n",
              "      <td>156</td>\n",
              "      <td>27</td>\n",
              "      <td>18</td>\n",
              "      <td>77</td>\n",
              "      <td>216</td>\n",
              "      <td>126</td>\n",
              "      <td>279,1</td>\n",
              "      <td>83</td>\n",
              "      <td>12,56</td>\n",
              "      <td>9,9</td>\n",
              "      <td>6</td>\n",
              "      <td>2,67</td>\n",
              "      <td>2</td>\n",
              "      <td>0</td>\n",
              "    </tr>\n",
              "    <tr>\n",
              "      <th>3329</th>\n",
              "      <td>68</td>\n",
              "      <td>415</td>\n",
              "      <td>3703271</td>\n",
              "      <td>no</td>\n",
              "      <td>no</td>\n",
              "      <td>0</td>\n",
              "      <td>231</td>\n",
              "      <td>39</td>\n",
              "      <td>13</td>\n",
              "      <td>57</td>\n",
              "      <td>153</td>\n",
              "      <td>55</td>\n",
              "      <td>191,3</td>\n",
              "      <td>123</td>\n",
              "      <td>8,61</td>\n",
              "      <td>9,6</td>\n",
              "      <td>4</td>\n",
              "      <td>2,59</td>\n",
              "      <td>3</td>\n",
              "      <td>0</td>\n",
              "    </tr>\n",
              "    <tr>\n",
              "      <th>3330</th>\n",
              "      <td>28</td>\n",
              "      <td>510</td>\n",
              "      <td>3288230</td>\n",
              "      <td>no</td>\n",
              "      <td>no</td>\n",
              "      <td>0</td>\n",
              "      <td>181</td>\n",
              "      <td>31</td>\n",
              "      <td>25</td>\n",
              "      <td>109</td>\n",
              "      <td>289</td>\n",
              "      <td>58</td>\n",
              "      <td>191,9</td>\n",
              "      <td>91</td>\n",
              "      <td>8,64</td>\n",
              "      <td>14,1</td>\n",
              "      <td>6</td>\n",
              "      <td>3,81</td>\n",
              "      <td>2</td>\n",
              "      <td>0</td>\n",
              "    </tr>\n",
              "    <tr>\n",
              "      <th>3331</th>\n",
              "      <td>184</td>\n",
              "      <td>510</td>\n",
              "      <td>3646381</td>\n",
              "      <td>yes</td>\n",
              "      <td>no</td>\n",
              "      <td>0</td>\n",
              "      <td>214</td>\n",
              "      <td>36</td>\n",
              "      <td>14</td>\n",
              "      <td>105</td>\n",
              "      <td>160</td>\n",
              "      <td>84</td>\n",
              "      <td>139,2</td>\n",
              "      <td>137</td>\n",
              "      <td>6,26</td>\n",
              "      <td>5</td>\n",
              "      <td>10</td>\n",
              "      <td>1,35</td>\n",
              "      <td>2</td>\n",
              "      <td>0</td>\n",
              "    </tr>\n",
              "    <tr>\n",
              "      <th>3332</th>\n",
              "      <td>74</td>\n",
              "      <td>415</td>\n",
              "      <td>4004344</td>\n",
              "      <td>no</td>\n",
              "      <td>yes</td>\n",
              "      <td>25</td>\n",
              "      <td>234</td>\n",
              "      <td>40</td>\n",
              "      <td>23</td>\n",
              "      <td>113</td>\n",
              "      <td>266</td>\n",
              "      <td>82</td>\n",
              "      <td>241,4</td>\n",
              "      <td>77</td>\n",
              "      <td>10,86</td>\n",
              "      <td>13,7</td>\n",
              "      <td>4</td>\n",
              "      <td>3,7</td>\n",
              "      <td>0</td>\n",
              "      <td>0</td>\n",
              "    </tr>\n",
              "  </tbody>\n",
              "</table>\n",
              "<p>3333 rows × 20 columns</p>\n",
              "</div>\n",
              "    <div class=\"colab-df-buttons\">\n",
              "\n",
              "  <div class=\"colab-df-container\">\n",
              "    <button class=\"colab-df-convert\" onclick=\"convertToInteractive('df-980435cc-f2c0-4190-ad63-e58a38eddd25')\"\n",
              "            title=\"Convert this dataframe to an interactive table.\"\n",
              "            style=\"display:none;\">\n",
              "\n",
              "  <svg xmlns=\"http://www.w3.org/2000/svg\" height=\"24px\" viewBox=\"0 -960 960 960\">\n",
              "    <path d=\"M120-120v-720h720v720H120Zm60-500h600v-160H180v160Zm220 220h160v-160H400v160Zm0 220h160v-160H400v160ZM180-400h160v-160H180v160Zm440 0h160v-160H620v160ZM180-180h160v-160H180v160Zm440 0h160v-160H620v160Z\"/>\n",
              "  </svg>\n",
              "    </button>\n",
              "\n",
              "  <style>\n",
              "    .colab-df-container {\n",
              "      display:flex;\n",
              "      gap: 12px;\n",
              "    }\n",
              "\n",
              "    .colab-df-convert {\n",
              "      background-color: #E8F0FE;\n",
              "      border: none;\n",
              "      border-radius: 50%;\n",
              "      cursor: pointer;\n",
              "      display: none;\n",
              "      fill: #1967D2;\n",
              "      height: 32px;\n",
              "      padding: 0 0 0 0;\n",
              "      width: 32px;\n",
              "    }\n",
              "\n",
              "    .colab-df-convert:hover {\n",
              "      background-color: #E2EBFA;\n",
              "      box-shadow: 0px 1px 2px rgba(60, 64, 67, 0.3), 0px 1px 3px 1px rgba(60, 64, 67, 0.15);\n",
              "      fill: #174EA6;\n",
              "    }\n",
              "\n",
              "    .colab-df-buttons div {\n",
              "      margin-bottom: 4px;\n",
              "    }\n",
              "\n",
              "    [theme=dark] .colab-df-convert {\n",
              "      background-color: #3B4455;\n",
              "      fill: #D2E3FC;\n",
              "    }\n",
              "\n",
              "    [theme=dark] .colab-df-convert:hover {\n",
              "      background-color: #434B5C;\n",
              "      box-shadow: 0px 1px 3px 1px rgba(0, 0, 0, 0.15);\n",
              "      filter: drop-shadow(0px 1px 2px rgba(0, 0, 0, 0.3));\n",
              "      fill: #FFFFFF;\n",
              "    }\n",
              "  </style>\n",
              "\n",
              "    <script>\n",
              "      const buttonEl =\n",
              "        document.querySelector('#df-980435cc-f2c0-4190-ad63-e58a38eddd25 button.colab-df-convert');\n",
              "      buttonEl.style.display =\n",
              "        google.colab.kernel.accessAllowed ? 'block' : 'none';\n",
              "\n",
              "      async function convertToInteractive(key) {\n",
              "        const element = document.querySelector('#df-980435cc-f2c0-4190-ad63-e58a38eddd25');\n",
              "        const dataTable =\n",
              "          await google.colab.kernel.invokeFunction('convertToInteractive',\n",
              "                                                    [key], {});\n",
              "        if (!dataTable) return;\n",
              "\n",
              "        const docLinkHtml = 'Like what you see? Visit the ' +\n",
              "          '<a target=\"_blank\" href=https://colab.research.google.com/notebooks/data_table.ipynb>data table notebook</a>'\n",
              "          + ' to learn more about interactive tables.';\n",
              "        element.innerHTML = '';\n",
              "        dataTable['output_type'] = 'display_data';\n",
              "        await google.colab.output.renderOutput(dataTable, element);\n",
              "        const docLink = document.createElement('div');\n",
              "        docLink.innerHTML = docLinkHtml;\n",
              "        element.appendChild(docLink);\n",
              "      }\n",
              "    </script>\n",
              "  </div>\n",
              "\n",
              "\n",
              "<div id=\"df-6d36dcdc-25e9-4176-a62d-36c264ed2a39\">\n",
              "  <button class=\"colab-df-quickchart\" onclick=\"quickchart('df-6d36dcdc-25e9-4176-a62d-36c264ed2a39')\"\n",
              "            title=\"Suggest charts\"\n",
              "            style=\"display:none;\">\n",
              "\n",
              "<svg xmlns=\"http://www.w3.org/2000/svg\" height=\"24px\"viewBox=\"0 0 24 24\"\n",
              "     width=\"24px\">\n",
              "    <g>\n",
              "        <path d=\"M19 3H5c-1.1 0-2 .9-2 2v14c0 1.1.9 2 2 2h14c1.1 0 2-.9 2-2V5c0-1.1-.9-2-2-2zM9 17H7v-7h2v7zm4 0h-2V7h2v10zm4 0h-2v-4h2v4z\"/>\n",
              "    </g>\n",
              "</svg>\n",
              "  </button>\n",
              "\n",
              "<style>\n",
              "  .colab-df-quickchart {\n",
              "      --bg-color: #E8F0FE;\n",
              "      --fill-color: #1967D2;\n",
              "      --hover-bg-color: #E2EBFA;\n",
              "      --hover-fill-color: #174EA6;\n",
              "      --disabled-fill-color: #AAA;\n",
              "      --disabled-bg-color: #DDD;\n",
              "  }\n",
              "\n",
              "  [theme=dark] .colab-df-quickchart {\n",
              "      --bg-color: #3B4455;\n",
              "      --fill-color: #D2E3FC;\n",
              "      --hover-bg-color: #434B5C;\n",
              "      --hover-fill-color: #FFFFFF;\n",
              "      --disabled-bg-color: #3B4455;\n",
              "      --disabled-fill-color: #666;\n",
              "  }\n",
              "\n",
              "  .colab-df-quickchart {\n",
              "    background-color: var(--bg-color);\n",
              "    border: none;\n",
              "    border-radius: 50%;\n",
              "    cursor: pointer;\n",
              "    display: none;\n",
              "    fill: var(--fill-color);\n",
              "    height: 32px;\n",
              "    padding: 0;\n",
              "    width: 32px;\n",
              "  }\n",
              "\n",
              "  .colab-df-quickchart:hover {\n",
              "    background-color: var(--hover-bg-color);\n",
              "    box-shadow: 0 1px 2px rgba(60, 64, 67, 0.3), 0 1px 3px 1px rgba(60, 64, 67, 0.15);\n",
              "    fill: var(--button-hover-fill-color);\n",
              "  }\n",
              "\n",
              "  .colab-df-quickchart-complete:disabled,\n",
              "  .colab-df-quickchart-complete:disabled:hover {\n",
              "    background-color: var(--disabled-bg-color);\n",
              "    fill: var(--disabled-fill-color);\n",
              "    box-shadow: none;\n",
              "  }\n",
              "\n",
              "  .colab-df-spinner {\n",
              "    border: 2px solid var(--fill-color);\n",
              "    border-color: transparent;\n",
              "    border-bottom-color: var(--fill-color);\n",
              "    animation:\n",
              "      spin 1s steps(1) infinite;\n",
              "  }\n",
              "\n",
              "  @keyframes spin {\n",
              "    0% {\n",
              "      border-color: transparent;\n",
              "      border-bottom-color: var(--fill-color);\n",
              "      border-left-color: var(--fill-color);\n",
              "    }\n",
              "    20% {\n",
              "      border-color: transparent;\n",
              "      border-left-color: var(--fill-color);\n",
              "      border-top-color: var(--fill-color);\n",
              "    }\n",
              "    30% {\n",
              "      border-color: transparent;\n",
              "      border-left-color: var(--fill-color);\n",
              "      border-top-color: var(--fill-color);\n",
              "      border-right-color: var(--fill-color);\n",
              "    }\n",
              "    40% {\n",
              "      border-color: transparent;\n",
              "      border-right-color: var(--fill-color);\n",
              "      border-top-color: var(--fill-color);\n",
              "    }\n",
              "    60% {\n",
              "      border-color: transparent;\n",
              "      border-right-color: var(--fill-color);\n",
              "    }\n",
              "    80% {\n",
              "      border-color: transparent;\n",
              "      border-right-color: var(--fill-color);\n",
              "      border-bottom-color: var(--fill-color);\n",
              "    }\n",
              "    90% {\n",
              "      border-color: transparent;\n",
              "      border-bottom-color: var(--fill-color);\n",
              "    }\n",
              "  }\n",
              "</style>\n",
              "\n",
              "  <script>\n",
              "    async function quickchart(key) {\n",
              "      const quickchartButtonEl =\n",
              "        document.querySelector('#' + key + ' button');\n",
              "      quickchartButtonEl.disabled = true;  // To prevent multiple clicks.\n",
              "      quickchartButtonEl.classList.add('colab-df-spinner');\n",
              "      try {\n",
              "        const charts = await google.colab.kernel.invokeFunction(\n",
              "            'suggestCharts', [key], {});\n",
              "      } catch (error) {\n",
              "        console.error('Error during call to suggestCharts:', error);\n",
              "      }\n",
              "      quickchartButtonEl.classList.remove('colab-df-spinner');\n",
              "      quickchartButtonEl.classList.add('colab-df-quickchart-complete');\n",
              "    }\n",
              "    (() => {\n",
              "      let quickchartButtonEl =\n",
              "        document.querySelector('#df-6d36dcdc-25e9-4176-a62d-36c264ed2a39 button');\n",
              "      quickchartButtonEl.style.display =\n",
              "        google.colab.kernel.accessAllowed ? 'block' : 'none';\n",
              "    })();\n",
              "  </script>\n",
              "</div>\n",
              "    </div>\n",
              "  </div>\n"
            ]
          },
          "metadata": {},
          "execution_count": 67
        }
      ]
    },
    {
      "cell_type": "code",
      "source": [
        "# Show the columns and rows of data. There are 3333 rows and 20 columns\n",
        "customer_behavior_data.shape"
      ],
      "metadata": {
        "colab": {
          "base_uri": "https://localhost:8080/"
        },
        "id": "7q9qsVdExuTX",
        "outputId": "6ff1c561-39df-47d5-f700-08834f42e45e"
      },
      "execution_count": null,
      "outputs": [
        {
          "output_type": "execute_result",
          "data": {
            "text/plain": [
              "(3333, 20)"
            ]
          },
          "metadata": {},
          "execution_count": 21
        }
      ]
    },
    {
      "cell_type": "code",
      "source": [
        "# Show information of dataset\n",
        "customer_behavior_data.info()"
      ],
      "metadata": {
        "colab": {
          "base_uri": "https://localhost:8080/"
        },
        "id": "zXdPcurByELM",
        "outputId": "4704e094-83d0-476c-f9aa-c40f691d0b56"
      },
      "execution_count": null,
      "outputs": [
        {
          "output_type": "stream",
          "name": "stdout",
          "text": [
            "<class 'pandas.core.frame.DataFrame'>\n",
            "RangeIndex: 3333 entries, 0 to 3332\n",
            "Data columns (total 20 columns):\n",
            " #   Column                               Non-Null Count  Dtype \n",
            "---  ------                               --------------  ----- \n",
            " 0   account length                       3333 non-null   int64 \n",
            " 1   location code                        3333 non-null   int64 \n",
            " 2   user id                              3333 non-null   int64 \n",
            " 3   credit card info save                3333 non-null   object\n",
            " 4   push status                          3333 non-null   object\n",
            " 5   add to wishlist                      3333 non-null   int64 \n",
            " 6   desktop sessions                     3333 non-null   int64 \n",
            " 7   app sessions                         3333 non-null   int64 \n",
            " 8   desktop transactions                 3333 non-null   int64 \n",
            " 9   total product detail views           3333 non-null   int64 \n",
            " 10  session duration                     3333 non-null   int64 \n",
            " 11  promotion clicks                     3333 non-null   int64 \n",
            " 12  avg order value                      3333 non-null   object\n",
            " 13  sale product views                   3333 non-null   int64 \n",
            " 14  discount rate per visited products   3333 non-null   object\n",
            " 15  product detail view per app session  3333 non-null   object\n",
            " 16  app transactions                     3333 non-null   int64 \n",
            " 17  add to cart per session              3333 non-null   object\n",
            " 18  customer service calls               3333 non-null   int64 \n",
            " 19  churn                                3333 non-null   int64 \n",
            "dtypes: int64(14), object(6)\n",
            "memory usage: 520.9+ KB\n"
          ]
        }
      ]
    },
    {
      "cell_type": "code",
      "source": [
        "# Find NA/NULL variablies for all the columns\n",
        "customer_behavior_data.isnull().sum()"
      ],
      "metadata": {
        "colab": {
          "base_uri": "https://localhost:8080/"
        },
        "id": "SxxVYbdEysY7",
        "outputId": "f0442b10-266a-4d5a-c101-2934c818dbba"
      },
      "execution_count": null,
      "outputs": [
        {
          "output_type": "execute_result",
          "data": {
            "text/plain": [
              "account length                         0\n",
              "location code                          0\n",
              "user id                                0\n",
              "credit card info save                  0\n",
              "push status                            0\n",
              "add to wishlist                        0\n",
              "desktop sessions                       0\n",
              "app sessions                           0\n",
              "desktop transactions                   0\n",
              "total product detail views             0\n",
              "session duration                       0\n",
              "promotion clicks                       0\n",
              "avg order value                        0\n",
              "sale product views                     0\n",
              "discount rate per visited products     0\n",
              "product detail view per app session    0\n",
              "app transactions                       0\n",
              "add to cart per session                0\n",
              "customer service calls                 0\n",
              "churn                                  0\n",
              "dtype: int64"
            ]
          },
          "metadata": {},
          "execution_count": 23
        }
      ]
    },
    {
      "cell_type": "code",
      "source": [
        "# Show the unique values of the columns\n",
        "\n",
        "# Churn column\n",
        "uniqueChurnCount= customer_behavior_data['churn'].nunique()\n",
        "uniqueChurnCount"
      ],
      "metadata": {
        "colab": {
          "base_uri": "https://localhost:8080/"
        },
        "id": "OOFY_uJG-wH8",
        "outputId": "f6032fff-3f7d-4e8b-9433-b4f77fbff68a"
      },
      "execution_count": null,
      "outputs": [
        {
          "output_type": "execute_result",
          "data": {
            "text/plain": [
              "2"
            ]
          },
          "metadata": {},
          "execution_count": 64
        }
      ]
    },
    {
      "cell_type": "code",
      "source": [
        "# Location code column\n",
        "uniqueLocationCount= customer_behavior_data['location code'].nunique()\n",
        "uniqueLocationCount"
      ],
      "metadata": {
        "colab": {
          "base_uri": "https://localhost:8080/"
        },
        "id": "vhc6TpnF_Y8Y",
        "outputId": "eb62de97-db5b-48c9-b728-e035971a1953"
      },
      "execution_count": null,
      "outputs": [
        {
          "output_type": "execute_result",
          "data": {
            "text/plain": [
              "3"
            ]
          },
          "metadata": {},
          "execution_count": 65
        }
      ]
    },
    {
      "cell_type": "markdown",
      "source": [
        "## Data Cleaning"
      ],
      "metadata": {
        "id": "4z1eJG0Hy1oz"
      }
    },
    {
      "cell_type": "markdown",
      "source": [
        "There is no null variables found in the data"
      ],
      "metadata": {
        "id": "Wvaoo1dv9d8V"
      }
    },
    {
      "cell_type": "markdown",
      "source": [
        "## Exploratory Analysis"
      ],
      "metadata": {
        "id": "ux_AH4uEzAfz"
      }
    },
    {
      "cell_type": "markdown",
      "source": [
        "This part target on Anlysis of the Dependent variable (Churn) and the Independent variables\n",
        "\n"
      ],
      "metadata": {
        "id": "jaZbYG5AzFCr"
      }
    },
    {
      "cell_type": "markdown",
      "source": [
        "### Plotting"
      ],
      "metadata": {
        "id": "OCZ4R2gfzS5k"
      }
    },
    {
      "cell_type": "markdown",
      "source": [
        "***Plot 1. Create a pie plot for the percentage of churn and not churn customers***"
      ],
      "metadata": {
        "id": "fyoLy_zg0VYL"
      }
    },
    {
      "cell_type": "code",
      "source": [
        "# Show the unique variable of Dependent Variable - Churn\n",
        "# 0 = Have churn, 1 = Not churn\n",
        "customer_behavior_data[\"churn\"].value_counts().keys().tolist()"
      ],
      "metadata": {
        "colab": {
          "base_uri": "https://localhost:8080/"
        },
        "id": "_ggEI-f_zee7",
        "outputId": "3c551a02-95d8-487a-fd57-bab0df0a0f94"
      },
      "execution_count": null,
      "outputs": [
        {
          "output_type": "execute_result",
          "data": {
            "text/plain": [
              "[0, 1]"
            ]
          },
          "metadata": {},
          "execution_count": 42
        }
      ]
    },
    {
      "cell_type": "code",
      "source": [
        "customer_behavior_data[\"churn\"].value_counts().keys().tolist()"
      ],
      "metadata": {
        "colab": {
          "base_uri": "https://localhost:8080/"
        },
        "id": "xsGSIpQ23AN9",
        "outputId": "befadeb3-8609-42f1-a0f7-6b08d9298c4f"
      },
      "execution_count": null,
      "outputs": [
        {
          "output_type": "execute_result",
          "data": {
            "text/plain": [
              "[0, 1]"
            ]
          },
          "metadata": {},
          "execution_count": 45
        }
      ]
    },
    {
      "cell_type": "code",
      "source": [
        "customer_behavior_data[\"churn\"].value_counts().values.tolist()"
      ],
      "metadata": {
        "colab": {
          "base_uri": "https://localhost:8080/"
        },
        "id": "wo8-pAKX3O3s",
        "outputId": "4d4eec48-2d48-413d-b97b-a7b6937709f3"
      },
      "execution_count": null,
      "outputs": [
        {
          "output_type": "execute_result",
          "data": {
            "text/plain": [
              "[2850, 483]"
            ]
          },
          "metadata": {},
          "execution_count": 46
        }
      ]
    },
    {
      "cell_type": "code",
      "source": [
        "# Create label and variable for the chart\n",
        "lab = customer_behavior_data[\"churn\"].value_counts().keys().tolist()\n",
        "val = customer_behavior_data[\"churn\"].value_counts().values.tolist()\n",
        "\n",
        "#changing labels which is more readable for stakeholders\n",
        "lab = ['Customer who stayed', 'Customer who left']\n",
        "\n",
        "# define Seaborn color palette to use\n",
        "palette_color = sns.color_palette('tab10')\n",
        "\n",
        "# plotting data on chart\n",
        "plt.pie(val, labels=lab, colors=palette_color, autopct='%.0f%%')\n",
        "\n",
        "plt.title('Customer who left our company')\n",
        "\n",
        "# displaying chart\n",
        "plt.show()"
      ],
      "metadata": {
        "colab": {
          "base_uri": "https://localhost:8080/",
          "height": 428
        },
        "id": "nah6oiNkztn6",
        "outputId": "2121b564-6727-4979-93d5-b395a4adf26f"
      },
      "execution_count": null,
      "outputs": [
        {
          "output_type": "display_data",
          "data": {
            "text/plain": [
              "<Figure size 640x480 with 1 Axes>"
            ],
            "image/png": "[encoded data removed]"
          },
          "metadata": {}
        }
      ]
    },
    {
      "cell_type": "markdown",
      "source": [
        "Analysis Statement:\n",
        "The pilot showing that 86% of the customer stayed with the company and 14% customer who left.\n",
        "\n",
        "--> It shows that customer feel satisfaction with the company. The company can connect to customer who left and understand the reason why they leave and work on it."
      ],
      "metadata": {
        "id": "6YUAdYvQ0QYa"
      }
    },
    {
      "cell_type": "markdown",
      "source": [
        "**Plot 2. Create a bar plot counting the number of customers that have churn 0 and churn 1**"
      ],
      "metadata": {
        "id": "60ebfVQb0mhj"
      }
    },
    {
      "cell_type": "code",
      "source": [
        "fig = plt.figure(figsize = (4, 5))\n",
        "\n",
        "# creating the bar plot\n",
        "bar_colors = ['tab:orange', 'tab:blue']\n",
        "plt.bar(lab, val, color = bar_colors, width = 0.4)\n",
        "\n",
        "plt.xlabel(\"Churn\")\n",
        "plt.ylabel(\"Number of Customers\")\n",
        "plt.title(\"Counting the number of Customer have churn 0 or 1\")\n",
        "plt.show()"
      ],
      "metadata": {
        "colab": {
          "base_uri": "https://localhost:8080/",
          "height": 487
        },
        "id": "KfbYPTkp1C9j",
        "outputId": "035e9c4f-a4f4-4507-a191-aacc3a16e629"
      },
      "execution_count": null,
      "outputs": [
        {
          "output_type": "display_data",
          "data": {
            "text/plain": [
              "<Figure size 400x500 with 1 Axes>"
            ],
            "image/png": "[encoded data removed]"
          },
          "metadata": {}
        }
      ]
    },
    {
      "cell_type": "code",
      "source": [
        "chart = sns.countplot(data=customer_behavior_data, x='churn')\n",
        "chart.bar_label(chart.containers[0])"
      ],
      "metadata": {
        "colab": {
          "base_uri": "https://localhost:8080/",
          "height": 467
        },
        "id": "SwgInUILCaSU",
        "outputId": "34ae177d-6295-4aa7-b8e8-4a37190a8d7f"
      },
      "execution_count": null,
      "outputs": [
        {
          "output_type": "execute_result",
          "data": {
            "text/plain": [
              "[Text(0, 0, '2850'), Text(0, 0, '483')]"
            ]
          },
          "metadata": {},
          "execution_count": 68
        },
        {
          "output_type": "display_data",
          "data": {
            "text/plain": [
              "<Figure size 640x480 with 1 Axes>"
            ],
            "image/png": "[encoded data removed]"
          },
          "metadata": {}
        }
      ]
    },
    {
      "cell_type": "markdown",
      "source": [
        "Analysis for chart above:\n",
        "- There are 2850 of Customers Who Stayed (0) and 483 Customer Who left (1)"
      ],
      "metadata": {
        "id": "8c1OrPSDCaEN"
      }
    },
    {
      "cell_type": "markdown",
      "source": [
        "**Plot 3. Plotting Churn against Location_Code, Push_Status, Credit_Card_Info Save**"
      ],
      "metadata": {
        "id": "6ZHNHT1u3yG6"
      }
    },
    {
      "cell_type": "markdown",
      "source": [
        "1. Plotting against Location_Code"
      ],
      "metadata": {
        "id": "oton4_Gj4ftD"
      }
    },
    {
      "cell_type": "code",
      "source": [
        "chart = sns.countplot(data=customer_behavior_data, x='location code')\n",
        "chart.bar_label(chart.containers[0])"
      ],
      "metadata": {
        "colab": {
          "base_uri": "https://localhost:8080/",
          "height": 467
        },
        "id": "WX1DnazR42Ck",
        "outputId": "ede49cb0-c48f-45f0-f8fc-4c1b07329dff"
      },
      "execution_count": null,
      "outputs": [
        {
          "output_type": "execute_result",
          "data": {
            "text/plain": [
              "[Text(0, 0, '838'), Text(0, 0, '1655'), Text(0, 0, '840')]"
            ]
          },
          "metadata": {},
          "execution_count": 54
        },
        {
          "output_type": "display_data",
          "data": {
            "text/plain": [
              "<Figure size 640x480 with 1 Axes>"
            ],
            "image/png": "[encoded data removed]"
          },
          "metadata": {}
        }
      ]
    },
    {
      "cell_type": "markdown",
      "source": [
        "Analysis for above chart: There are 3 location code: 408 with total 838 values, 415 with 1655 values and 510 with 840 values."
      ],
      "metadata": {
        "id": "syqUOIMj6XGN"
      }
    },
    {
      "cell_type": "code",
      "source": [
        "chart = sns.countplot(x='churn',data=customer_behavior_data, hue='location code',palette='coolwarm')\n",
        "for container in chart.containers:\n",
        "    chart.bar_label(container)"
      ],
      "metadata": {
        "colab": {
          "base_uri": "https://localhost:8080/",
          "height": 449
        },
        "id": "51zq2Pxg4IZs",
        "outputId": "e94bcb41-db66-4a91-e428-ed29652e6281"
      },
      "execution_count": null,
      "outputs": [
        {
          "output_type": "display_data",
          "data": {
            "text/plain": [
              "<Figure size 640x480 with 1 Axes>"
            ],
            "image/png": "[encoded data removed]"
          },
          "metadata": {}
        }
      ]
    },
    {
      "cell_type": "markdown",
      "source": [
        "Analysis for above chart:\n",
        "- For 0 (Customer stay):\n",
        "716 customers have location code of 408, 1419 customers have location 415 and 715 customers have location code of 510.\n",
        "- For 1 (Customer left):\n",
        "122 customers have location code of 122, 236 customers have location code of 415 and 125 customer have location code of 510.\n",
        "\n",
        "Overall, customer with location code of 415 contribute highest percent in both Customer who stay and Customer who left.\n",
        "\n"
      ],
      "metadata": {
        "id": "Cszar9RI7Mxk"
      }
    },
    {
      "cell_type": "markdown",
      "source": [
        "2. Plotting against Push_Status"
      ],
      "metadata": {
        "id": "D157a2_X7q30"
      }
    },
    {
      "cell_type": "code",
      "source": [
        "chart = sns.countplot(x='churn',data=customer_behavior_data, hue='push status',palette='coolwarm')\n",
        "for container in chart.containers:\n",
        "    chart.bar_label(container)"
      ],
      "metadata": {
        "colab": {
          "base_uri": "https://localhost:8080/",
          "height": 449
        },
        "id": "CRP2h-R_7tQk",
        "outputId": "70a296db-2021-49f0-91d9-6286d935ec71"
      },
      "execution_count": null,
      "outputs": [
        {
          "output_type": "display_data",
          "data": {
            "text/plain": [
              "<Figure size 640x480 with 1 Axes>"
            ],
            "image/png": "[encoded data removed]"
          },
          "metadata": {}
        }
      ]
    },
    {
      "cell_type": "markdown",
      "source": [
        "Analysis for above chart:\n",
        "- Customers who have push status of No contribute the highest percent in both Customer who stay and customer who leave with 2008 customers in 0 (Customer who stay) and 403 in 1 (Customer who left)"
      ],
      "metadata": {
        "id": "VxxTTyBl7yYT"
      }
    },
    {
      "cell_type": "code",
      "source": [
        "# Show the number of customers who have push status in 2 label Customer who left and Customer who stayed\n",
        "chart = sns.countplot(data=customer_behavior_data, x='push status')\n",
        "chart.bar_label(chart.containers[0])"
      ],
      "metadata": {
        "colab": {
          "base_uri": "https://localhost:8080/",
          "height": 468
        },
        "id": "-BmoLUYq-RgL",
        "outputId": "b404476f-9639-472c-b7f2-f4edc28429d3"
      },
      "execution_count": null,
      "outputs": [
        {
          "output_type": "execute_result",
          "data": {
            "text/plain": [
              "[Text(0, 0, '922'), Text(0, 0, '2411')]"
            ]
          },
          "metadata": {},
          "execution_count": 66
        },
        {
          "output_type": "display_data",
          "data": {
            "text/plain": [
              "<Figure size 640x480 with 1 Axes>"
            ],
            "image/png": "[encoded data removed]"
          },
          "metadata": {}
        }
      ]
    },
    {
      "cell_type": "markdown",
      "source": [
        "2. Plotting against Credit Card Info Save"
      ],
      "metadata": {
        "id": "yJnome-m8Adj"
      }
    },
    {
      "cell_type": "code",
      "source": [
        "chart = sns.countplot(x='churn',data=customer_behavior_data, hue='credit card info save',palette='coolwarm')\n",
        "for container in chart.containers:\n",
        "    chart.bar_label(container)"
      ],
      "metadata": {
        "colab": {
          "base_uri": "https://localhost:8080/",
          "height": 449
        },
        "id": "BMQ-fBNP8FoT",
        "outputId": "44c41fb1-35b6-48f8-f178-6bb1c1299737"
      },
      "execution_count": null,
      "outputs": [
        {
          "output_type": "display_data",
          "data": {
            "text/plain": [
              "<Figure size 640x480 with 1 Axes>"
            ],
            "image/png": "[encoded data removed]"
          },
          "metadata": {}
        }
      ]
    },
    {
      "cell_type": "markdown",
      "source": [
        "Analysis for above chart:\n",
        "For customer who stay (0): there are 2664 customers with no credit card info save.\n",
        "For customer who leave (1): there are 346 customers with no credit card info save.\n",
        "\n",
        "Overall, most of customers don't have credit card info save."
      ],
      "metadata": {
        "id": "-rdlH_Qz8KND"
      }
    },
    {
      "cell_type": "markdown",
      "source": [
        "#**Conclusion**\n"
      ],
      "metadata": {
        "id": "LNjEHcQK8sGc"
      }
    },
    {
      "cell_type": "markdown",
      "source": [
        "From the given charts, we see that in the past:\n",
        "1. Mostly of the customers are from location 415 with 1655 customers. But less in 2 another location.\n",
        "\n",
        "*--> The company focused on customers in 1 location, in future, the company can expand their business and target on customers in different locations.*\n",
        "\n",
        "2. Most of the customer doest have credit card info save in both Customer who left and Customer who stay.\n",
        "\n",
        "*--> This factor \"Credit Card Infor Save\" doesn't affect much to the result Customer leave or not.*\n",
        "\n",
        "3. Company still have higher percent of Customer who stay (86%).\n",
        "\n",
        "\n",
        "--> It shows that customer feel satisfaction with the company. The company can connect to customer who left and understand the reason why they leave and work on it.\n",
        "\n",
        "--> In future, company can prevent churn by engage with the customers with product, focus on customer feedback, relationship marketing, show day-to-day value, and importantly, improve customer services, research & develop process, and also expand the customers to new locations.\n",
        "\n"
      ],
      "metadata": {
        "id": "sdcUpDra8w6j"
      }
    }
  ]
}